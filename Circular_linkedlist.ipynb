{
 "cells": [
  {
   "cell_type": "markdown",
   "metadata": {},
   "source": [
    "# Node class"
   ]
  },
  {
   "cell_type": "code",
   "execution_count": 1,
   "metadata": {},
   "outputs": [],
   "source": [
    "class Node:\n",
    "    def __init__(self,data=None,next=None):\n",
    "        self.data=data\n",
    "        self.next=next\n",
    "    \n",
    "        "
   ]
  },
  {
   "cell_type": "markdown",
   "metadata": {},
   "source": [
    "# CLL initialization"
   ]
  },
  {
   "cell_type": "code",
   "execution_count": 2,
   "metadata": {},
   "outputs": [],
   "source": [
    "class CLL:\n",
    "    def __init__(self,size=0):\n",
    "        self.head=None\n",
    "        self.size=size"
   ]
  },
  {
   "cell_type": "markdown",
   "metadata": {},
   "source": [
    "# Singly circular linked list"
   ]
  },
  {
   "cell_type": "markdown",
   "metadata": {},
   "source": [
    "# insertion from head"
   ]
  },
  {
   "cell_type": "code",
   "execution_count": 26,
   "metadata": {},
   "outputs": [],
   "source": [
    "class Node:\n",
    "    def __init__(self,data=None,next=None):\n",
    "        self.data=data\n",
    "        self.next=next\n",
    "        \n",
    "class CLL:\n",
    "    def __init__(self,size=0):\n",
    "        self.head=None\n",
    "        self.size=size\n",
    "        \n",
    "        \n",
    "    def add_at_head(self,ele):\n",
    "        new_node=Node(ele)\n",
    "        if self.head is None:\n",
    "            self.head=new_node\n",
    "            new_node.next=self.head\n",
    "        else:\n",
    "            current=self.head\n",
    "            while current.next!=self.head:\n",
    "                current=current.next\n",
    "            current.next=new_node # here current is last node(tail)\n",
    "            new_node.next=self.head \n",
    "            self.head=new_node # now new node become head\n",
    "            self.size+=1\n",
    "            \n",
    "       \n",
    "    \n",
    "    def display(self):\n",
    "        if self.head is None:\n",
    "            print(\"List is empty\")\n",
    "        else:\n",
    "            current = self.head\n",
    "            while True: #This starts an infinite loop, which will continue until explicitly broken.\n",
    "                print(current.data, end=\" \") \n",
    "                current = current.next\n",
    "                if current == self.head: # agr vapas head pr aa gye to loop break kr do\n",
    "                    break\n",
    "        "
   ]
  },
  {
   "cell_type": "code",
   "execution_count": 27,
   "metadata": {},
   "outputs": [],
   "source": [
    "obj=CLL()"
   ]
  },
  {
   "cell_type": "code",
   "execution_count": 28,
   "metadata": {},
   "outputs": [],
   "source": [
    "obj.add_at_head(10)\n",
    "obj.add_at_head(20)\n",
    "obj.add_at_head(30)\n",
    "obj.add_at_head(40)"
   ]
  },
  {
   "cell_type": "code",
   "execution_count": 29,
   "metadata": {},
   "outputs": [
    {
     "name": "stdout",
     "output_type": "stream",
     "text": [
      "40 30 20 10 "
     ]
    }
   ],
   "source": [
    "obj.display()"
   ]
  },
  {
   "cell_type": "markdown",
   "metadata": {},
   "source": [
    "# insertion from tail "
   ]
  },
  {
   "cell_type": "code",
   "execution_count": 30,
   "metadata": {},
   "outputs": [],
   "source": [
    "class Node:\n",
    "    def __init__(self,data=None,next=None):\n",
    "        self.data=data\n",
    "        self.next=next\n",
    "        \n",
    "class CLL:\n",
    "    def __init__(self,size=0):\n",
    "        self.head=None\n",
    "        self.size=size\n",
    "        \n",
    "        \n",
    "    def add_tail(self,ele):\n",
    "        new_node=Node(ele)\n",
    "        if self.head is None:\n",
    "            self.head=new_node\n",
    "            new_node.next=self.head\n",
    "            \n",
    "        else:\n",
    "            current=self.head\n",
    "            while current.next is not self.head:\n",
    "                current=current.next\n",
    "            current.next=new_node\n",
    "            new_node.next=self.head\n",
    "            self.size+=1\n",
    "            \n",
    "    def display(self):\n",
    "        if self.head is None:\n",
    "            print(\"List is empty\")\n",
    "        else:\n",
    "            current = self.head\n",
    "            while True: #This starts an infinite loop, which will continue until explicitly broken.\n",
    "                print(current.data, end=\" \") \n",
    "                current = current.next\n",
    "                if current == self.head: # agr vapas head pr aa gye to loop break kr do\n",
    "                    break\n",
    "        \n",
    "            "
   ]
  },
  {
   "cell_type": "code",
   "execution_count": 31,
   "metadata": {},
   "outputs": [],
   "source": [
    "obj=CLL()"
   ]
  },
  {
   "cell_type": "code",
   "execution_count": 32,
   "metadata": {},
   "outputs": [],
   "source": [
    "obj.add_tail(10)\n",
    "obj.add_tail(20)\n",
    "obj.add_tail(30)\n",
    "obj.add_tail(40)"
   ]
  },
  {
   "cell_type": "code",
   "execution_count": 33,
   "metadata": {},
   "outputs": [
    {
     "name": "stdout",
     "output_type": "stream",
     "text": [
      "10 20 30 40 "
     ]
    }
   ],
   "source": [
    "obj.display()"
   ]
  },
  {
   "cell_type": "markdown",
   "metadata": {},
   "source": [
    "# Insertion in between"
   ]
  },
  {
   "cell_type": "code",
   "execution_count": 34,
   "metadata": {},
   "outputs": [],
   "source": [
    "class Node:\n",
    "    def __init__(self,data=None,next=None):\n",
    "        self.data=data\n",
    "        self.next=next\n",
    "        \n",
    "class CLL:\n",
    "    def __init__(self,size=0):\n",
    "        self.head=None\n",
    "        self.size=size\n",
    "        \n",
    "    \n",
    "    \n",
    "    def add_tail(self,ele):\n",
    "        new_node=Node(ele)\n",
    "        if self.head is None:\n",
    "            self.head=new_node\n",
    "            new_node.next=self.head\n",
    "            \n",
    "        else:\n",
    "            current=self.head\n",
    "            while current.next is not self.head:\n",
    "                current=current.next\n",
    "            current.next=new_node\n",
    "            new_node.next=self.head\n",
    "            self.size+=1\n",
    "        \n",
    "    def add_after(self,ele,after):\n",
    "        new_node=Node(ele)\n",
    "        if self.head is None:\n",
    "            self.head=new_node\n",
    "            new_node.next=self.head\n",
    "            \n",
    "        else:\n",
    "            current=self.head\n",
    "            while current.next is not self.head:\n",
    "                current=current.next\n",
    "                if current.data==after:\n",
    "                    break\n",
    "            new_node.next=current.next\n",
    "            current.next=new_node\n",
    "            self.size+=1\n",
    "            \n",
    "\n",
    "\n",
    "    def display(self):\n",
    "        if self.head is None:\n",
    "            print(\"List is empty\")\n",
    "        else:\n",
    "            current = self.head\n",
    "            while True: #This starts an infinite loop, which will continue until explicitly broken.\n",
    "                print(current.data, end=\" \") \n",
    "                current = current.next\n",
    "                if current == self.head: # agr vapas head pr aa gye to loop break kr do\n",
    "                    break"
   ]
  },
  {
   "cell_type": "code",
   "execution_count": 35,
   "metadata": {},
   "outputs": [],
   "source": [
    "obj=CLL()"
   ]
  },
  {
   "cell_type": "code",
   "execution_count": 36,
   "metadata": {},
   "outputs": [],
   "source": [
    "obj.add_tail(10)\n",
    "obj.add_tail(20)\n",
    "obj.add_tail(30)\n",
    "obj.add_tail(40)"
   ]
  },
  {
   "cell_type": "code",
   "execution_count": 37,
   "metadata": {},
   "outputs": [
    {
     "name": "stdout",
     "output_type": "stream",
     "text": [
      "10 20 30 40 "
     ]
    }
   ],
   "source": [
    "obj.display()"
   ]
  },
  {
   "cell_type": "code",
   "execution_count": 38,
   "metadata": {},
   "outputs": [],
   "source": [
    "obj.add_after(50,20)"
   ]
  },
  {
   "cell_type": "code",
   "execution_count": 40,
   "metadata": {},
   "outputs": [
    {
     "name": "stdout",
     "output_type": "stream",
     "text": [
      "10 20 50 30 40 "
     ]
    }
   ],
   "source": [
    "obj.display()"
   ]
  },
  {
   "cell_type": "markdown",
   "metadata": {},
   "source": [
    "# Deletion from head"
   ]
  },
  {
   "cell_type": "code",
   "execution_count": 53,
   "metadata": {},
   "outputs": [],
   "source": [
    "class Node:\n",
    "    def __init__(self,data=None,next=None):\n",
    "        self.data=data\n",
    "        self.next=next\n",
    "        \n",
    "class CLL:\n",
    "    def __init__(self,size=0):\n",
    "        self.head=None\n",
    "        self.size=size\n",
    "        \n",
    "    def add_tail(self,ele):\n",
    "        new_node=Node(ele)\n",
    "        if self.head is None:\n",
    "            self.head=new_node\n",
    "            new_node.next=self.head\n",
    "            \n",
    "        else:\n",
    "            current=self.head\n",
    "            while current.next is not self.head:\n",
    "                current=current.next\n",
    "            current.next=new_node\n",
    "            new_node.next=self.head\n",
    "            self.size+=1\n",
    "        \n",
    "        \n",
    "    def delete_head(self):\n",
    "        if self.head is None:\n",
    "            print(\"CLL is empty\")\n",
    "            return\n",
    "    \n",
    "        # If the list contains only one node\n",
    "        if self.head.next == self.head:\n",
    "            self.head = None\n",
    "        else:\n",
    "            current = self.head\n",
    "            # Find the node before the head (i.e., the tail node)\n",
    "            while current.next != self.head:\n",
    "                current = current.next\n",
    "            current.next = self.head.next  # Update the tail's next pointer\n",
    "            self.head = self.head.next  # Update the head to the next node\n",
    "        \n",
    "        self.size -= 1\n",
    "\n",
    "            \n",
    "    \n",
    "    def display(self):\n",
    "        if self.head is None:\n",
    "            print(\"List is empty\")\n",
    "        else:\n",
    "            current = self.head\n",
    "            while True: #This starts an infinite loop, which will continue until explicitly broken.\n",
    "                print(current.data, end=\" \") \n",
    "                current = current.next\n",
    "                if current == self.head: # agr vapas head pr aa gye to loop break kr do\n",
    "                    break\n",
    "        "
   ]
  },
  {
   "cell_type": "code",
   "execution_count": 54,
   "metadata": {},
   "outputs": [],
   "source": [
    "obj=CLL()"
   ]
  },
  {
   "cell_type": "code",
   "execution_count": 55,
   "metadata": {},
   "outputs": [],
   "source": [
    "obj.add_tail(10)\n",
    "obj.add_tail(20)\n",
    "obj.add_tail(30)\n",
    "obj.add_tail(40)"
   ]
  },
  {
   "cell_type": "code",
   "execution_count": 57,
   "metadata": {},
   "outputs": [
    {
     "name": "stdout",
     "output_type": "stream",
     "text": [
      "10 20 30 40 "
     ]
    }
   ],
   "source": [
    "obj.display()"
   ]
  },
  {
   "cell_type": "code",
   "execution_count": 58,
   "metadata": {},
   "outputs": [],
   "source": [
    "obj.delete_head()"
   ]
  },
  {
   "cell_type": "code",
   "execution_count": 59,
   "metadata": {},
   "outputs": [
    {
     "name": "stdout",
     "output_type": "stream",
     "text": [
      "20 30 40 "
     ]
    }
   ],
   "source": [
    "obj.display()"
   ]
  },
  {
   "cell_type": "markdown",
   "metadata": {},
   "source": [
    "# delete from tail"
   ]
  },
  {
   "cell_type": "code",
   "execution_count": 67,
   "metadata": {},
   "outputs": [],
   "source": [
    "class Node:\n",
    "    def __init__(self,data=None,next=None):\n",
    "        self.data=data\n",
    "        self.next=next\n",
    "        \n",
    "class CLL:\n",
    "    def __init__(self,size=0):\n",
    "        self.head=None\n",
    "        self.size=size\n",
    "        \n",
    "    def add_tail(self,ele):\n",
    "        new_node=Node(ele)\n",
    "        if self.head is None:\n",
    "            self.head=new_node\n",
    "            new_node.next=self.head\n",
    "            \n",
    "        else:\n",
    "            current=self.head\n",
    "            while current.next is not self.head:\n",
    "                current=current.next\n",
    "            current.next=new_node\n",
    "            new_node.next=self.head\n",
    "            self.size+=1\n",
    "        \n",
    "        \n",
    "    def delete_tail(self):\n",
    "        if self.head is None:\n",
    "            print(\"CLL is empty\")\n",
    "            return\n",
    "    \n",
    "        # If the list contains only one node\n",
    "        if self.head.next == self.head:\n",
    "            self.head = None\n",
    "        else:\n",
    "            current = self.head\n",
    "            # Find the node before the head (i.e., the tail node)\n",
    "            while current.next.next != self.head: # stop before tail\n",
    "                current = current.next # update current\n",
    "            current.next = self.head   # current next is head not tail so that tail skip  \n",
    "        self.size -= 1\n",
    "\n",
    "            \n",
    "    \n",
    "    def display(self):\n",
    "        if self.head is None:\n",
    "            print(\"List is empty\")\n",
    "        else:\n",
    "            current = self.head\n",
    "            while True: #This starts an infinite loop, which will continue until explicitly broken.\n",
    "                print(current.data, end=\" \") \n",
    "                current = current.next\n",
    "                if current == self.head: # agr vapas head pr aa gye to loop break kr do\n",
    "                    break\n",
    "        "
   ]
  },
  {
   "cell_type": "code",
   "execution_count": 68,
   "metadata": {},
   "outputs": [],
   "source": [
    "obj=CLL()"
   ]
  },
  {
   "cell_type": "code",
   "execution_count": 69,
   "metadata": {},
   "outputs": [],
   "source": [
    "obj.add_tail(10)\n",
    "obj.add_tail(20)\n",
    "obj.add_tail(30)\n",
    "obj.add_tail(40)"
   ]
  },
  {
   "cell_type": "code",
   "execution_count": 70,
   "metadata": {},
   "outputs": [
    {
     "name": "stdout",
     "output_type": "stream",
     "text": [
      "10 20 30 40 "
     ]
    }
   ],
   "source": [
    "obj.display()"
   ]
  },
  {
   "cell_type": "code",
   "execution_count": 71,
   "metadata": {},
   "outputs": [],
   "source": [
    "obj.delete_tail()"
   ]
  },
  {
   "cell_type": "code",
   "execution_count": 72,
   "metadata": {},
   "outputs": [
    {
     "name": "stdout",
     "output_type": "stream",
     "text": [
      "10 20 30 "
     ]
    }
   ],
   "source": [
    "obj.display()"
   ]
  }
 ],
 "metadata": {
  "kernelspec": {
   "display_name": ".venv",
   "language": "python",
   "name": "python3"
  },
  "language_info": {
   "codemirror_mode": {
    "name": "ipython",
    "version": 3
   },
   "file_extension": ".py",
   "mimetype": "text/x-python",
   "name": "python",
   "nbconvert_exporter": "python",
   "pygments_lexer": "ipython3",
   "version": "3.12.4"
  }
 },
 "nbformat": 4,
 "nbformat_minor": 2
}
