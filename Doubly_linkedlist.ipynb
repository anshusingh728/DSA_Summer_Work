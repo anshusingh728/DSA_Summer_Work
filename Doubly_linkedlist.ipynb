{
 "cells": [
  {
   "cell_type": "markdown",
   "metadata": {},
   "source": [
    "# Node class"
   ]
  },
  {
   "cell_type": "code",
   "execution_count": 23,
   "metadata": {},
   "outputs": [],
   "source": [
    "class Node:\n",
    "    def __init__(self,data=None,next=None):\n",
    "        self.data=data\n",
    "        self.next=next"
   ]
  },
  {
   "cell_type": "markdown",
   "metadata": {},
   "source": [
    "# initialization of Doubly linkedlist"
   ]
  },
  {
   "cell_type": "code",
   "execution_count": 24,
   "metadata": {},
   "outputs": [],
   "source": [
    "class Node:\n",
    "    def __init__(self,data=None,next=None,prev=None):\n",
    "        self.data=data\n",
    "        self.next=next\n",
    "        self.prev=prev\n",
    "class DLL:\n",
    "    def __init__(self,size=0):\n",
    "        self.header=Node() # header node\n",
    "        self.trailer=Node() # tailer node\n",
    "        self.header.next=self.trailer  # next of header is trailer\n",
    "        self.trailer.prev=self.header # next of trailer is header\n",
    "        self.size=size  # to maintain size "
   ]
  },
  {
   "cell_type": "markdown",
   "metadata": {},
   "source": [
    "# Addition from head in DLL"
   ]
  },
  {
   "cell_type": "code",
   "execution_count": 8,
   "metadata": {},
   "outputs": [],
   "source": [
    "class Node:\n",
    "    def __init__(self,data=None,next=None,prev=None):\n",
    "        self.data=data\n",
    "        self.next=next\n",
    "        self.prev=prev\n",
    "class DLL:\n",
    "    def __init__(self,size=0):\n",
    "        self.header=Node() # header node\n",
    "        self.trailer=Node() # tailer node\n",
    "        self.header.next=self.trailer  # next of header is trailer\n",
    "        self.trailer.prev=self.header # next of trailer is header\n",
    "        self.size=size  # to maintain size \n",
    "        \n",
    "        \n",
    "    def add_head(self,ele):\n",
    "        new_node=Node(ele)\n",
    "        self.header.next.prev=new_node\n",
    "        new_node.prev=self.header\n",
    "        new_node.next=self.header.next\n",
    "        self.header.next=new_node\n",
    "        self.size+=1\n",
    "        \n",
    "    def display(self):\n",
    "        current = self.header.next\n",
    "        while current != self.trailer:\n",
    "            print(current.data, end=\" \")\n",
    "            current = current.next      "
   ]
  },
  {
   "cell_type": "code",
   "execution_count": 9,
   "metadata": {},
   "outputs": [],
   "source": [
    "obj=DLL()"
   ]
  },
  {
   "cell_type": "code",
   "execution_count": 10,
   "metadata": {},
   "outputs": [],
   "source": [
    "obj.add_head(10)\n",
    "obj.add_head(20)\n",
    "obj.add_head(30)\n",
    "obj.add_head(40)"
   ]
  },
  {
   "cell_type": "code",
   "execution_count": 11,
   "metadata": {},
   "outputs": [
    {
     "name": "stdout",
     "output_type": "stream",
     "text": [
      "40 30 20 10 "
     ]
    }
   ],
   "source": [
    "obj.display()"
   ]
  },
  {
   "cell_type": "markdown",
   "metadata": {},
   "source": [
    "# Addition from tail in DLL"
   ]
  },
  {
   "cell_type": "code",
   "execution_count": 20,
   "metadata": {},
   "outputs": [],
   "source": [
    "class Node:\n",
    "    def __init__(self,data=None,next=None,prev=None):\n",
    "        self.data=data\n",
    "        self.next=next\n",
    "        self.prev=prev\n",
    "class DLL:\n",
    "    def __init__(self,size=0):\n",
    "        self.header=Node() # header node\n",
    "        self.trailer=Node() # tailer node\n",
    "        self.header.next=self.trailer  # next of header is trailer\n",
    "        self.trailer.prev=self.header # next of trailer is header\n",
    "        self.size=size  # to maintain size \n",
    "        \n",
    "    def add_tail(self,ele):\n",
    "        new_node=Node(ele)\n",
    "        last_node=self.trailer.prev\n",
    "        last_node.next.prev=new_node\n",
    "        new_node.prev=last_node\n",
    "        new_node.next=last_node.next\n",
    "        last_node.next=new_node\n",
    "    \n",
    "    def display(self):\n",
    "        current = self.header.next\n",
    "        while current != self.trailer:\n",
    "            print(current.data, end=\" \")\n",
    "            current = current.next      \n",
    "            \n",
    "        \n",
    "            \n",
    "        "
   ]
  },
  {
   "cell_type": "code",
   "execution_count": 21,
   "metadata": {},
   "outputs": [],
   "source": [
    "obj=DLL()"
   ]
  },
  {
   "cell_type": "code",
   "execution_count": 22,
   "metadata": {},
   "outputs": [],
   "source": [
    "obj.add_tail(10)\n",
    "obj.add_tail(20)\n",
    "obj.add_tail(30)\n",
    "obj.add_tail(40)"
   ]
  },
  {
   "cell_type": "code",
   "execution_count": 23,
   "metadata": {},
   "outputs": [
    {
     "name": "stdout",
     "output_type": "stream",
     "text": [
      "10 20 30 40 "
     ]
    }
   ],
   "source": [
    "obj.display()"
   ]
  },
  {
   "cell_type": "markdown",
   "metadata": {},
   "source": [
    "# Addition after in DLL"
   ]
  },
  {
   "cell_type": "code",
   "execution_count": 52,
   "metadata": {},
   "outputs": [],
   "source": [
    "class Node:\n",
    "    def __init__(self, data=None, next=None, prev=None):\n",
    "        self.data = data\n",
    "        self.next = next\n",
    "        self.prev = prev\n",
    "\n",
    "class DLL:\n",
    "    def __init__(self, size=0):\n",
    "        self.header = Node()  # header node\n",
    "        self.trailer = Node()  # trailer node\n",
    "        self.header.next = self.trailer  # next of header is trailer\n",
    "        self.trailer.prev = self.header  # prev of trailer is header\n",
    "        self.size = size  # to maintain size\n",
    "\n",
    "    def add_head(self, ele):\n",
    "        new_node = Node(ele)\n",
    "        new_node.next = self.header.next\n",
    "        new_node.prev = self.header\n",
    "        self.header.next.prev = new_node\n",
    "        self.header.next = new_node\n",
    "        self.size += 1\n",
    "\n",
    "    def add_after(self, after_data, ele):\n",
    "        new_node = Node(ele)\n",
    "        current = self.header.next\n",
    "\n",
    "        # Traverse the list to find the node with data 'after_data'\n",
    "        while current != self.trailer and current.data != after_data:\n",
    "            current = current.next\n",
    "\n",
    "        # If the node with 'after_data' is found\n",
    "        if current != self.trailer:\n",
    "            new_node.prev = current\n",
    "            new_node.next = current.next\n",
    "            current.next.prev = new_node\n",
    "            current.next = new_node\n",
    "            self.size += 1\n",
    "\n",
    "    def display(self):\n",
    "        current = self.header.next\n",
    "        while current != self.trailer:\n",
    "            print(current.data, end=\" \")\n",
    "            current = current.next"
   ]
  },
  {
   "cell_type": "code",
   "execution_count": 53,
   "metadata": {},
   "outputs": [
    {
     "name": "stdout",
     "output_type": "stream",
     "text": [
      "10 20 25 30 "
     ]
    }
   ],
   "source": [
    "dll = DLL()\n",
    "dll.add_head(30)\n",
    "dll.add_head(20)\n",
    "dll.add_head(10)\n",
    "dll.add_after(20, 25)\n",
    "dll.display()  # Output: 10 20 25 30\n"
   ]
  },
  {
   "cell_type": "markdown",
   "metadata": {},
   "source": [
    "#   Delete from head in DLL"
   ]
  },
  {
   "cell_type": "code",
   "execution_count": 28,
   "metadata": {},
   "outputs": [],
   "source": [
    "class Node:\n",
    "    def __init__(self, data=None, next=None, prev=None):\n",
    "        self.data = data\n",
    "        self.next = next\n",
    "        self.prev = prev\n",
    "\n",
    "class DLL:\n",
    "    def __init__(self, size=0):\n",
    "        self.header = Node()  # header node\n",
    "        self.trailer = Node()  # trailer node\n",
    "        self.header.next = self.trailer  # next of header is trailer\n",
    "        self.trailer.prev = self.header  # prev of trailer is header\n",
    "        self.size = size  # to maintain size\n",
    "    \n",
    "\n",
    "    \n",
    "    def add_tail(self,ele):\n",
    "        new_node=Node(ele)\n",
    "        last_node=self.trailer.prev\n",
    "        last_node.next.prev=new_node\n",
    "        new_node.prev=last_node\n",
    "        new_node.next=last_node.next\n",
    "        last_node.next=new_node\n",
    "    \n",
    "    \n",
    "    def delete_head(self):\n",
    "        if self.header.next is None:\n",
    "            print(\"DLL is empty\")\n",
    "            return\n",
    "        # Update the head pointer to the next node\n",
    "        self.header.next = self.header.next.next\n",
    "        # If the list is not empty after deletion, update the prev pointer of the new head\n",
    "        self.header.next.prev = self.header\n",
    "        self.size -= 1\n",
    "\n",
    "        \n",
    "    def display(self):\n",
    "        current = self.header.next\n",
    "        while current != self.trailer:\n",
    "            print(current.data, end=\" \")\n",
    "            current = current.next\n",
    "        \n",
    "        "
   ]
  },
  {
   "cell_type": "code",
   "execution_count": 37,
   "metadata": {},
   "outputs": [],
   "source": [
    "obj=DLL()"
   ]
  },
  {
   "cell_type": "code",
   "execution_count": 38,
   "metadata": {},
   "outputs": [],
   "source": [
    "obj.add_tail(10)\n",
    "obj.add_tail(20)\n",
    "obj.add_tail(30)\n",
    "obj.add_tail(40)"
   ]
  },
  {
   "cell_type": "code",
   "execution_count": 39,
   "metadata": {},
   "outputs": [
    {
     "name": "stdout",
     "output_type": "stream",
     "text": [
      "10 20 30 40 "
     ]
    }
   ],
   "source": [
    "obj.display()"
   ]
  },
  {
   "cell_type": "code",
   "execution_count": 40,
   "metadata": {},
   "outputs": [],
   "source": [
    "obj.delete_head()"
   ]
  },
  {
   "cell_type": "code",
   "execution_count": 41,
   "metadata": {},
   "outputs": [
    {
     "name": "stdout",
     "output_type": "stream",
     "text": [
      "20 30 40 "
     ]
    }
   ],
   "source": [
    "obj.display()"
   ]
  },
  {
   "cell_type": "code",
   "execution_count": 42,
   "metadata": {},
   "outputs": [],
   "source": [
    "obj.delete_head()"
   ]
  },
  {
   "cell_type": "code",
   "execution_count": 43,
   "metadata": {},
   "outputs": [
    {
     "name": "stdout",
     "output_type": "stream",
     "text": [
      "30 40 "
     ]
    }
   ],
   "source": [
    "obj.display()"
   ]
  },
  {
   "cell_type": "markdown",
   "metadata": {},
   "source": [
    "# Delete from tail "
   ]
  },
  {
   "cell_type": "code",
   "execution_count": 44,
   "metadata": {},
   "outputs": [],
   "source": [
    "class Node:\n",
    "    def __init__(self, data=None, next=None, prev=None):\n",
    "        self.data = data\n",
    "        self.next = next\n",
    "        self.prev = prev\n",
    "\n",
    "class DLL:\n",
    "    def __init__(self, size=0):\n",
    "        self.header = Node()  # header node\n",
    "        self.trailer = Node()  # trailer node\n",
    "        self.header.next = self.trailer  # next of header is trailer\n",
    "        self.trailer.prev = self.header  # prev of trailer is header\n",
    "        self.size = size  # to maintain size\n",
    "    \n",
    "\n",
    "    \n",
    "    def add_tail(self,ele):\n",
    "        new_node=Node(ele)\n",
    "        last_node=self.trailer.prev\n",
    "        last_node.next.prev=new_node\n",
    "        new_node.prev=last_node\n",
    "        new_node.next=last_node.next\n",
    "        last_node.next=new_node\n",
    "    \n",
    "    \n",
    "    def delete_tail(self):\n",
    "        if self.header.next == self.trailer:  # Check if the list is empty\n",
    "            print(\"DLL is empty\")\n",
    "            return\n",
    "        last = self.trailer.prev\n",
    "        if last == self.header:  # Check if there's only one element in the list\n",
    "            self.header.next = self.trailer\n",
    "            self.trailer.prev = self.header\n",
    "        else:\n",
    "            self.trailer.prev = last.prev\n",
    "            last.prev.next = self.trailer\n",
    "\n",
    "            \n",
    "        \n",
    "\n",
    "        \n",
    "    def display(self):\n",
    "        current = self.header.next\n",
    "        while current != self.trailer:\n",
    "            print(current.data, end=\" \")\n",
    "            current = current.next\n",
    "        \n",
    "        "
   ]
  },
  {
   "cell_type": "code",
   "execution_count": 45,
   "metadata": {},
   "outputs": [],
   "source": [
    "obj=DLL()"
   ]
  },
  {
   "cell_type": "code",
   "execution_count": 46,
   "metadata": {},
   "outputs": [],
   "source": [
    "obj.add_tail(10)\n",
    "obj.add_tail(20)\n",
    "obj.add_tail(30)\n",
    "obj.add_tail(40)"
   ]
  },
  {
   "cell_type": "code",
   "execution_count": 47,
   "metadata": {},
   "outputs": [
    {
     "name": "stdout",
     "output_type": "stream",
     "text": [
      "10 20 30 40 "
     ]
    }
   ],
   "source": [
    "obj.display()"
   ]
  },
  {
   "cell_type": "code",
   "execution_count": 48,
   "metadata": {},
   "outputs": [],
   "source": [
    "obj.delete_tail()"
   ]
  },
  {
   "cell_type": "code",
   "execution_count": 49,
   "metadata": {},
   "outputs": [
    {
     "name": "stdout",
     "output_type": "stream",
     "text": [
      "10 20 30 "
     ]
    }
   ],
   "source": [
    "obj.display()"
   ]
  }
 ],
 "metadata": {
  "kernelspec": {
   "display_name": ".venv",
   "language": "python",
   "name": "python3"
  },
  "language_info": {
   "codemirror_mode": {
    "name": "ipython",
    "version": 3
   },
   "file_extension": ".py",
   "mimetype": "text/x-python",
   "name": "python",
   "nbconvert_exporter": "python",
   "pygments_lexer": "ipython3",
   "version": "3.12.4"
  }
 },
 "nbformat": 4,
 "nbformat_minor": 2
}
